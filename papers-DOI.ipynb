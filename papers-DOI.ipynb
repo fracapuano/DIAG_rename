{
 "cells": [
  {
   "cell_type": "markdown",
   "metadata": {},
   "source": [
    "This first part only looks for the papers for which the DOI has been indicated in the assignments csv file. It produces an output called \"useful1.csv\" which would eventually later be used by a second part of the program. "
   ]
  },
  {
   "cell_type": "code",
   "execution_count": 1,
   "metadata": {},
   "outputs": [],
   "source": [
    "from webbot import Browser\n",
    "import pandas as pd\n",
    "import time\n",
    "import glob\n",
    "import os\n",
    "import tqdm\n",
    "import re"
   ]
  },
  {
   "cell_type": "code",
   "execution_count": 13,
   "metadata": {
    "scrolled": false
   },
   "outputs": [],
   "source": [
    "site = Browser(downloadPath='')\n",
    "df = pd.read_csv('assignments.csv', index_col = 0,dtype = str)"
   ]
  },
  {
   "cell_type": "code",
   "execution_count": 3,
   "metadata": {},
   "outputs": [],
   "source": [
    "righe = df.index\n",
    "col = ['Handle', 'Anno di pubblicazione', 'DOI', 'scopus: Identificativo']\n",
    "\n",
    "sub_df = df.loc[righe, col]\n",
    "#non null items\n",
    "new_df = sub_df.dropna(axis = 0, how = 'any')\n",
    "\n",
    "new_df\n",
    "#obtaining useful dois\n",
    "dois = new_df['DOI']\n",
    "\n",
    "title = []\n",
    "righe = new_df.index\n",
    "for riga in righe:\n",
    "    title.append('VE_'+new_df.loc[riga, 'Anno di pubblicazione']\n",
    "          +'_'+new_df.loc[riga, 'Handle'][:5]+\"-\"+new_df.loc[riga,'Handle'][6:])\n",
    "new_df.insert(loc = 4, column = 'Titoli', value = title)"
   ]
  },
  {
   "cell_type": "code",
   "execution_count": null,
   "metadata": {},
   "outputs": [],
   "source": [
    "site = Browser(downloadPath='step' #is a folder\n",
    "              )\n",
    "url_proxy=\"https://login.ezproxy.uniroma1.it/login\"\n",
    "url_scopus=\"https://www.scopus.com/search/form.uri?display=basic#basic\"\n",
    "\n",
    "#accessing via proxy to...\n",
    "#site.go_to(url_proxy)\n",
    "#site.type('myemail', into='email')\n",
    "#site.type('mypassword',into='*********')\n",
    "#site.click('Invia')\n",
    "\n",
    "#...scopus\n",
    "site.go_to(url_scopus)\n",
    "\n",
    "#avoiding annoying blocks\n",
    "site.click('Continue as guest')\n",
    "\n",
    "for riga in new_df.index:\n",
    "    print('Working on row *** {} *** '.format(riga))\n",
    "    \n",
    "    site.click('DOI')\n",
    "    site.click('Search documents')\n",
    "    site.click('Search documents')\n",
    "    site.type(str(new_df.loc[riga, 'DOI']))\n",
    "    site.click('Search','button','DocumentSearchForm__submitButton___16LlX')\n",
    "    site.click(classname='ddmDocTitle')\n",
    "    \n",
    "    site.click('View at Publisher')\n",
    "    \n",
    "    time.sleep(.2)\n",
    "    \n",
    "    site.go_to(url_scopus)\n",
    "    site.click('DOI')\n",
    "    site.click('Search documents')\n",
    "    \n",
    "    #what to automate with ML so that it completely works without any, even minimal, supervision\n",
    "    input('When ready for next iteration press enter: ')"
   ]
  },
  {
   "cell_type": "code",
   "execution_count": 4,
   "metadata": {},
   "outputs": [],
   "source": [
    "ddf = pd.read_csv('new_assigments.csv')\n",
    "new_df_2 = new_df.copy()\n",
    "new_df_2 = new_df_2.drop(axis = 0,\n",
    "             #dropping non useful rows\n",
    "             labels = [\n",
    "                 5,14,32,36,44,51,59,62,66,69,73,77,90,92,98,103,113,114,116,119,130,131,132,134,138,153,154,155,\n",
    "                 157,163,166,171,173,174,185,191,196,198\n",
    "             ])\n",
    "for indice in new_df_2.index:\n",
    "    #print(indice)\n",
    "    pass"
   ]
  },
  {
   "cell_type": "code",
   "execution_count": null,
   "metadata": {
    "scrolled": true
   },
   "outputs": [],
   "source": [
    "#obtaing the desiderate rename process\n",
    "for index in tqdm.tqdm(new_df_2.index):\n",
    "    os.rename('step/'+str(index)+\".pdf\",\n",
    "              'remote/'+new_df_2.at[index, 'Titoli']+'.pdf')"
   ]
  },
  {
   "cell_type": "code",
   "execution_count": null,
   "metadata": {},
   "outputs": [],
   "source": [
    "#obtaining a .csv to sum up the results of the iterations\n",
    "\n",
    "labels = [5,14,32,36,44,51,59,62,66,69,73,77,90,92,98,103,113,114,116,\n",
    "          119,130,131,132,134,138,153,154,155,157,163,166,171,173,174,185,191,196,198\n",
    "         ]\n",
    "\n",
    "for indice in df.index:\n",
    "    df.at[indice, 'note'] = ''\n",
    "    if indice in new_df_2.index:\n",
    "        df.at[indice, 'fatto'] = 'x'\n",
    "    \n",
    "    if indice in labels:\n",
    "        df.at[indice, 'note'] = 'pdf non reperibile (Springer, Bad link o DOI errato)'\n",
    "        \n",
    "    if indice not in new_df.index:\n",
    "        df.at[indice, 'note'] = 'DOI non presente'   \n",
    "\n",
    "df.to_csv(path_or_buf='useful1.csv')"
   ]
  }
 ],
 "metadata": {
  "kernelspec": {
   "display_name": "Python 3",
   "language": "python",
   "name": "python3"
  },
  "language_info": {
   "codemirror_mode": {
    "name": "ipython",
    "version": 3
   },
   "file_extension": ".py",
   "mimetype": "text/x-python",
   "name": "python",
   "nbconvert_exporter": "python",
   "pygments_lexer": "ipython3",
   "version": "3.7.9"
  }
 },
 "nbformat": 4,
 "nbformat_minor": 4
}
